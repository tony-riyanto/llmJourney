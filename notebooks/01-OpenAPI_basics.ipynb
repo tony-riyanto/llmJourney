{
 "cells": [
  {
   "cell_type": "code",
   "execution_count": null,
   "id": "f0020f5a",
   "metadata": {},
   "outputs": [],
   "source": [
    "import openai\n",
    "import os\n",
    " \n",
    "AZURE_ENDPOINT = os.environ[\"AZURE_OPENAI_ENDPOINT\"]\n",
    "AZURE_API_KEY = os.environ[\"AZURE_OPENAI_API_KEY\"]\n",
    "DEPLOYMENT_ID = os.environ[\"AZURE_OPENAI_CHAT_DEPLOYMENT_NAME\"]\n",
    " \n",
    " \n",
    "def call_azure_llm(prompt):\n",
    "    client = openai.AzureOpenAI(\n",
    "        base_url=f\"{AZURE_ENDPOINT}/openai/deployments/{DEPLOYMENT_ID}\",\n",
    "        api_key=AZURE_API_KEY,\n",
    "        api_version=\"2023-09-01-preview\"\n",
    "    )\n",
    " \n",
    "    messages = [\n",
    "        {\"role\": \"user\", \"content\": prompt}\n",
    "    ]\n",
    "    completion = client.chat.completions.create(messages=messages, \n",
    "                                                model=DEPLOYMENT_ID,\n",
    "                                                temperature=0,\n",
    "                                                max_tokens=300)\n",
    "    response = completion.choices[0].message.content\n",
    "    return response\n",
    " \n",
    "call_azure_llm(\"Quelle est la capitale de Congo ?\")\n"
   ]
  },
  {
   "cell_type": "code",
   "execution_count": null,
   "id": "61611af7",
   "metadata": {},
   "outputs": [],
   "source": []
  }
 ],
 "metadata": {
  "kernelspec": {
   "display_name": "Python 3 (ipykernel)",
   "language": "python",
   "name": "python3"
  },
  "language_info": {
   "codemirror_mode": {
    "name": "ipython",
    "version": 3
   },
   "file_extension": ".py",
   "mimetype": "text/x-python",
   "name": "python",
   "nbconvert_exporter": "python",
   "pygments_lexer": "ipython3",
   "version": "3.12.3"
  }
 },
 "nbformat": 4,
 "nbformat_minor": 5
}
