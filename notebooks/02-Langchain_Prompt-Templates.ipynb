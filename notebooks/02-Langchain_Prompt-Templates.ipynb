{
 "cells": [
  {
   "cell_type": "markdown",
   "id": "b5b99d72-d919-4362-a3e9-14e361f231b4",
   "metadata": {
    "tags": []
   },
   "source": [
    "# Understanding Prompt Templates"
   ]
  },
  {
   "cell_type": "markdown",
   "id": "27239e4b",
   "metadata": {},
   "source": [
    "# Without prompt template"
   ]
  },
  {
   "cell_type": "code",
   "execution_count": null,
   "id": "bdb72664-ce8d-4d88-b003-8a930ff2c2ab",
   "metadata": {},
   "outputs": [],
   "source": [
    "from langchain.llms import OpenAI\n",
    "from langchain_core.messages import HumanMessage\n",
    "from langchain_openai import AzureChatOpenAI\n",
    "import os\n",
    "\n",
    "model = AzureChatOpenAI(\n",
    "    openai_api_version=os.environ[\"AZURE_OPENAI_API_VERSION\"],\n",
    "    azure_deployment=os.environ[\"AZURE_OPENAI_CHAT_DEPLOYMENT_NAME\"],\n",
    "    temperature=0,\n",
    "    max_tokens=1000,\n",
    "    verbose=True    \n",
    ")\n",
    "\n",
    "# Check AzureAopenAi Model\n",
    "message = HumanMessage(\n",
    "    content=\"Translate this sentence from English to French. I hate programming.\"\n",
    ")\n",
    "result = model.invoke([message])\n",
    "print (result)"
   ]
  },
  {
   "cell_type": "markdown",
   "id": "9f959557",
   "metadata": {},
   "source": [
    "# Try using LangChain templates"
   ]
  },
  {
   "cell_type": "code",
   "execution_count": null,
   "id": "31161fe3",
   "metadata": {},
   "outputs": [],
   "source": []
  }
 ],
 "metadata": {
  "kernelspec": {
   "display_name": "Python 3 (ipykernel)",
   "language": "python",
   "name": "python3"
  },
  "language_info": {
   "codemirror_mode": {
    "name": "ipython",
    "version": 3
   },
   "file_extension": ".py",
   "mimetype": "text/x-python",
   "name": "python",
   "nbconvert_exporter": "python",
   "pygments_lexer": "ipython3",
   "version": "3.12.3"
  }
 },
 "nbformat": 4,
 "nbformat_minor": 5
}
