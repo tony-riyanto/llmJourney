{
 "cells": [
  {
   "cell_type": "code",
   "execution_count": null,
   "metadata": {},
   "outputs": [],
   "source": [
    "import os\n",
    "\n",
    "\n",
    "from langchain_core.messages import HumanMessage\n",
    "from langchain_openai import AzureChatOpenAI\n",
    "import pandas as pd\n",
    "from langchain.agents.agent_types import AgentType\n",
    "from langchain_experimental.agents.agent_toolkits import create_pandas_dataframe_agent\n",
    "\n",
    "model = AzureChatOpenAI(\n",
    "    openai_api_version=os.environ[\"AZURE_OPENAI_API_VERSION\"],\n",
    "    azure_deployment=os.environ[\"AZURE_OPENAI_CHAT_DEPLOYMENT_NAME\"],\n",
    ")\n",
    "\n",
    "\n"
   ]
  },
  {
   "cell_type": "markdown",
   "metadata": {},
   "source": [
    "# CSV in Pandas\n"
   ]
  },
  {
   "cell_type": "code",
   "execution_count": null,
   "metadata": {},
   "outputs": [],
   "source": [
    "df = pd.read_csv('../data/Titanic-Dataset.csv')\n",
    "df"
   ]
  },
  {
   "cell_type": "code",
   "execution_count": null,
   "metadata": {},
   "outputs": [],
   "source": [
    "# Input can also be excel file, for example\n",
    "# df = pd.read_excel('Suivi_PC-SiteSur-Utilisateurs.xlsx',sheet_name=\"Utilisateurs_PC\")\n",
    "\n",
    "# beware langchain-experimental module where we need to explicitly add \"allow_dangerous_code=True\"\n",
    "agent_csv = create_pandas_dataframe_agent(\n",
    "    model,\n",
    "    df, \n",
    "    handle_parsing_errors=True,\n",
    "    allow_dangerous_code=True,\n",
    "    verbose=True)"
   ]
  },
  {
   "cell_type": "code",
   "execution_count": null,
   "metadata": {},
   "outputs": [],
   "source": [
    "agent_csv.invoke(\"Combien de personnes sont là?\")"
   ]
  },
  {
   "cell_type": "code",
   "execution_count": null,
   "metadata": {},
   "outputs": [],
   "source": [
    "agent_csv.invoke(\"Combien de femmes sont là?\")\n"
   ]
  },
  {
   "cell_type": "markdown",
   "metadata": {},
   "source": [
    "# XLSX in Pandas"
   ]
  },
  {
   "cell_type": "code",
   "execution_count": null,
   "metadata": {},
   "outputs": [],
   "source": [
    "# Input can also be excel file, for example\n",
    "df_xlsx1 = pd.read_excel('../data/titanic-and-winequality-red.xlsx',sheet_name=\"titanic\")\n",
    "df_xlsx1"
   ]
  },
  {
   "cell_type": "code",
   "execution_count": null,
   "metadata": {},
   "outputs": [],
   "source": [
    "\n",
    "\n",
    "# beware langchain-experimental module where we need to explicitly add \"allow_dangerous_code=True\"\n",
    "agent_xlsx1 = create_pandas_dataframe_agent(\n",
    "    model,\n",
    "    df_xlsx1, \n",
    "    handle_parsing_errors=True,\n",
    "    allow_dangerous_code=True,\n",
    "    verbose=True)"
   ]
  },
  {
   "cell_type": "code",
   "execution_count": null,
   "metadata": {},
   "outputs": [],
   "source": [
    "agent_xlsx1.invoke(\"Combien de personnes sont là?\")"
   ]
  },
  {
   "cell_type": "markdown",
   "metadata": {},
   "source": [
    "## XLSX next tab"
   ]
  },
  {
   "cell_type": "code",
   "execution_count": null,
   "metadata": {},
   "outputs": [],
   "source": [
    "# Input can also be excel file, for example\n",
    "df_xlsx2 = pd.read_excel('../data/titanic-and-winequality-red.xlsx',sheet_name=\"winequality-red\")\n",
    "df_xlsx2"
   ]
  },
  {
   "cell_type": "code",
   "execution_count": null,
   "metadata": {},
   "outputs": [],
   "source": [
    "# beware langchain-experimental module where we need to explicitly add \"allow_dangerous_code=True\"\n",
    "agent_xlsx2 = create_pandas_dataframe_agent(\n",
    "    model,\n",
    "    df_xlsx2, \n",
    "    handle_parsing_errors=True,\n",
    "    allow_dangerous_code=True,\n",
    "    verbose=True)"
   ]
  },
  {
   "cell_type": "code",
   "execution_count": null,
   "metadata": {},
   "outputs": [],
   "source": [
    "agent_xlsx2.invoke(\"Laquelle est la meilleure qualité ?\")"
   ]
  },
  {
   "cell_type": "code",
   "execution_count": null,
   "metadata": {},
   "outputs": [],
   "source": []
  }
 ],
 "metadata": {
  "kernelspec": {
   "display_name": "Python 3 (ipykernel)",
   "language": "python",
   "name": "python3"
  },
  "language_info": {
   "codemirror_mode": {
    "name": "ipython",
    "version": 3
   },
   "file_extension": ".py",
   "mimetype": "text/x-python",
   "name": "python",
   "nbconvert_exporter": "python",
   "pygments_lexer": "ipython3",
   "version": "3.12.3"
  }
 },
 "nbformat": 4,
 "nbformat_minor": 4
}
